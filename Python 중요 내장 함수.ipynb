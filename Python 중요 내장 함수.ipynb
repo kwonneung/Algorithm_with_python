{
 "metadata": {
  "language_info": {
   "codemirror_mode": {
    "name": "ipython",
    "version": 3
   },
   "file_extension": ".py",
   "mimetype": "text/x-python",
   "name": "python",
   "nbconvert_exporter": "python",
   "pygments_lexer": "ipython3",
   "version": "3.7.3-final"
  },
  "orig_nbformat": 2,
  "kernelspec": {
   "name": "python3",
   "display_name": "Python 3.7.3 64-bit (conda)",
   "metadata": {
    "interpreter": {
     "hash": "89cfcc2101ac9601337bf699cf426e47927e374f8b5aab845ae7d30939bbb508"
    }
   }
  }
 },
 "nbformat": 4,
 "nbformat_minor": 2,
 "cells": [
  {
   "source": [
    "<h1>Python 중요 내장함수</h1><br>\n",
    "\n",
    "---\n",
    "<h2>1.itertools</h2>\n",
    "\n",
    "+ permutations: 순열 구하기\n",
    "* combinations: 조합 구하기\n",
    "- product:      중복 순열\n",
    "* combinations_with_replacement: 중복 조합"
   ],
   "cell_type": "markdown",
   "metadata": {}
  },
  {
   "cell_type": "code",
   "execution_count": 3,
   "metadata": {},
   "outputs": [
    {
     "output_type": "stream",
     "name": "stdout",
     "text": [
      "[('A', 'B', 'C'), ('A', 'C', 'B'), ('B', 'A', 'C'), ('B', 'C', 'A'), ('C', 'A', 'B'), ('C', 'B', 'A')]\n"
     ]
    }
   ],
   "source": [
    "#permutations\n",
    "from itertools import permutations\n",
    "\n",
    "data = ['A','B','C']\n",
    "result = list(permutations(data,3))\n",
    "print(result)"
   ]
  },
  {
   "cell_type": "code",
   "execution_count": 5,
   "metadata": {},
   "outputs": [
    {
     "output_type": "stream",
     "name": "stdout",
     "text": [
      "[('A', 'B', 'C')]\n"
     ]
    }
   ],
   "source": [
    "#combinations\n",
    "from itertools import combinations\n",
    "\n",
    "data = ['A','B','C']\n",
    "result = list(combinations(data, 3))\n",
    "print(result)"
   ]
  },
  {
   "cell_type": "code",
   "execution_count": 8,
   "metadata": {},
   "outputs": [
    {
     "output_type": "stream",
     "name": "stdout",
     "text": [
      "[('A', 'A'), ('A', 'B'), ('A', 'C'), ('B', 'A'), ('B', 'B'), ('B', 'C'), ('C', 'A'), ('C', 'B'), ('C', 'C')]\n"
     ]
    }
   ],
   "source": [
    "#product\n",
    "from itertools import product\n",
    "\n",
    "data = ['A','B','C']\n",
    "result = list(product(data, repeat=2))\n",
    "print(result)"
   ]
  },
  {
   "cell_type": "code",
   "execution_count": 13,
   "metadata": {},
   "outputs": [
    {
     "output_type": "stream",
     "name": "stdout",
     "text": [
      "[('A', 'A'), ('A', 'B'), ('A', 'C'), ('B', 'B'), ('B', 'C'), ('C', 'C')]\n"
     ]
    }
   ],
   "source": [
    "from itertools import combinations_with_replacement\n",
    "\n",
    "data = ['A','B','C']\n",
    "result = list(combinations_with_replacement(data, 2))\n",
    "print(result)"
   ]
  },
  {
   "source": [
    "\n",
    "---\n",
    "<h2>2.heapq</h2>  \n",
    "\n",
    "* 우선순위(정렬) 큐 기능을 구현"
   ],
   "cell_type": "markdown",
   "metadata": {}
  },
  {
   "cell_type": "code",
   "execution_count": 8,
   "metadata": {},
   "outputs": [
    {
     "output_type": "stream",
     "name": "stdout",
     "text": [
      "[0, 1, 2, 3, 4, 5, 6, 7, 8, 9]\n"
     ]
    }
   ],
   "source": [
    "#오름차순 힙 구현\n",
    "import heapq\n",
    "\n",
    "def heapsort(iterable): \n",
    "    h = []\n",
    "    result = []\n",
    "\n",
    "    for value in iterable:      #힙에 원소 삽입\n",
    "        heapq.heappush(h, value)\n",
    "    \n",
    "    for i in range(len(h)):     #힙에서 원소 꺼내기\n",
    "        result.append(heapq.heappop(h))\n",
    "        \n",
    "    return result\n",
    "\n",
    "result = heapsort([3,5,7,2,4,1,6,8,0,9])\n",
    "print(result)"
   ]
  },
  {
   "cell_type": "code",
   "execution_count": 14,
   "metadata": {},
   "outputs": [
    {
     "output_type": "stream",
     "name": "stdout",
     "text": [
      "[9, 8, 7, 6, 5, 4, 3, 2, 1, 0]\n"
     ]
    }
   ],
   "source": [
    "#내림차순 힙 구현\n",
    "import heapq\n",
    "\n",
    "def heapqsort(iterable):\n",
    "    h = []\n",
    "    result = []\n",
    "\n",
    "    for value in iterable:\n",
    "        heapq.heappush(h, -value) #값을 음수로 변환하여 정렬\n",
    "\n",
    "    for i in range(len(h)):\n",
    "        result.append(-heapq.heappop(h)) #음수를 양수로 바꿔서 append\n",
    "\n",
    "    return result\n",
    "\n",
    "result = heapqsort([3,5,7,2,4,1,6,8,0,9])\n",
    "print(result)"
   ]
  },
  {
   "source": [
    "\n",
    "---\n",
    "<h2>3.bisect</h2>\n",
    "\n",
    "**'정리된 배열'에서 특정한 원소를 찾아야 할 때 사용. 이진탐색을 쉽게 구현**\n",
    "\n",
    "- bisect_left(a, x): 정렬된 순서를 유지하며 리스트 a에 x가 삽입될 때 가장 왼쪽 인덱스 탐색\n",
    "- bisect_right(a, x): 정렬된 순서를 유지하며 리스트 a에 x가 삽입될 때 가장 오른쪽 인덱스 탐색 \n"
   ],
   "cell_type": "markdown",
   "metadata": {}
  },
  {
   "cell_type": "code",
   "execution_count": 16,
   "metadata": {},
   "outputs": [
    {
     "output_type": "stream",
     "name": "stdout",
     "text": [
      "2\n4\n"
     ]
    }
   ],
   "source": [
    "from bisect import bisect_left, bisect_right\n",
    "\n",
    "a = [1, 2, 4, 4, 8]\n",
    "x = 4\n",
    "\n",
    "#해당 인덱스 값을 반환\n",
    "print(bisect_left(a, x))\n",
    "print(bisect_right(a, x))"
   ]
  },
  {
   "cell_type": "code",
   "execution_count": 17,
   "metadata": {},
   "outputs": [
    {
     "output_type": "stream",
     "name": "stdout",
     "text": [
      "2\n6\n"
     ]
    }
   ],
   "source": [
    "#정렬된 리스트에서 '값이 특정 범위에 속하는 원소의 개수' 구하기\n",
    "from bisect import bisect_left, bisect_right\n",
    "\n",
    "#값이 [left_value, right_value]인 데이터 개수를 반환하는 함수\n",
    "def count_by_range(a, left_value, right_value):\n",
    "    right_index = bisect_right(a, right_value)\n",
    "    left_index = bisect_left(a, left_value)   \n",
    "\n",
    "    return right_index - left_index\n",
    "\n",
    "a = [1, 2, 3, 3, 3, 3, 4, 4, 8, 9]\n",
    "\n",
    "print(count_by_range(a, 4, 4)) #값이 4인 데이터 개수 출력\n",
    "print(count_by_range(a, -1, 3))#값이 범위에 있는 데이터 개수 출력"
   ]
  }
 ]
}