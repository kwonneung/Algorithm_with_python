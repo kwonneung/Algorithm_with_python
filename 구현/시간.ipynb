{
 "metadata": {
  "language_info": {
   "codemirror_mode": {
    "name": "ipython",
    "version": 3
   },
   "file_extension": ".py",
   "mimetype": "text/x-python",
   "name": "python",
   "nbconvert_exporter": "python",
   "pygments_lexer": "ipython3",
   "version": "3.7.3"
  },
  "orig_nbformat": 2,
  "kernelspec": {
   "name": "python3",
   "display_name": "Python 3.7.3 64-bit ('base': conda)",
   "metadata": {
    "interpreter": {
     "hash": "89cfcc2101ac9601337bf699cf426e47927e374f8b5aab845ae7d30939bbb508"
    }
   }
  }
 },
 "nbformat": 4,
 "nbformat_minor": 2,
 "cells": [
  {
   "source": [
    "<h1>시각</h1><br>\n",
    "<h2><문제></h2><br>   \n",
    "\n",
    "정수 N이 입력되면 00시 00분 00초부터 N시 59분 59초까지의 모든 시각 중에서 3이 하나라도 포함되는 모든 경우의 수를 구하는 프로그램을 작성하시오.  \n",
    "예를 들어 1을 입력했을 때 다음은 3이 하나라도 포함되어 있으므로 세어야 하는 시각이다.   \n",
    "\n",
    "-00시 00분 03초  \n",
    "-00시 13분 30초   \n",
    "   \n",
    "반면에 다음은 3이 하나도 포함되어 있지 않으므로 세면 안 되는 시각이다.   \n",
    "   \n",
    "-00시 2분 55초   \n",
    "-00시 13분 30초   \n",
    "   \n",
    "* 입력조건   \n",
    "첫째 줄에 정수 N이 입력된다. (0 <= N <= 23)   \n",
    "\n",
    "* 출력조건   \n",
    "00시 00분 00초부터 N 시 59분 59초까지의 모든 시각 중에서 3이 하나라도 포함되는 모든 경우의 수를 출력한다.  \n",
    "\n",
    "* * *\n",
    "**입력**<br> \n",
    "5<br>  \n",
    "\n",
    "**출력**<br>\n",
    "11475"
   ],
   "cell_type": "markdown",
   "metadata": {}
  },
  {
   "cell_type": "code",
   "execution_count": 3,
   "metadata": {},
   "outputs": [
    {
     "output_type": "stream",
     "name": "stdout",
     "text": [
      "11475\n"
     ]
    }
   ],
   "source": [
    "hour = int(input())\n",
    "count = 0\n",
    "\n",
    "for i in range(hour+1):\n",
    "    for j in range(60):\n",
    "        for k in range(60):\n",
    "            if '3' in str(i)+str(j)+str(k):\n",
    "                count += 1\n",
    "\n",
    "print(count)\n"
   ]
  }
 ]
}