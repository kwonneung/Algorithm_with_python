{
 "metadata": {
  "language_info": {
   "codemirror_mode": {
    "name": "ipython",
    "version": 3
   },
   "file_extension": ".py",
   "mimetype": "text/x-python",
   "name": "python",
   "nbconvert_exporter": "python",
   "pygments_lexer": "ipython3",
   "version": "3.7.3"
  },
  "orig_nbformat": 2,
  "kernelspec": {
   "name": "python373jvsc74a57bd089cfcc2101ac9601337bf699cf426e47927e374f8b5aab845ae7d30939bbb508",
   "display_name": "Python 3.7.3 64-bit ('base': conda)"
  }
 },
 "nbformat": 4,
 "nbformat_minor": 2,
 "cells": [
  {
   "source": [
    "<h1>왕실의 나이트</h1><br>\n",
    "<h2><문제></h2><br>   \n",
    "\n",
    "8 x 8 의 체스판은 열 a ~ h, 행 1 ~ 8로 구성되어 있다. 체스판에서 나이트는 체스판을 벗어날 수 없고 다음의 두가지 방법으로 이동할 수 있다.\n",
    "   \n",
    "-수평으로 두 칸 이동한 뒤에 수직으로 한 칸 이동하기    \n",
    "-수직으로 두 칸 이동한 뒤에 수평으로 한 칸 이동하기   \n",
    "      \n",
    "나이트의 위치가 주어졌을 때 나이트가 이동할 수 있는 경우의 수를 출력하는 프로그램을 작성하시오.   \n",
    "   \n",
    "* 입력조건   \n",
    "첫째 줄에 8x8 좌표 평면상에서 현재 나이트가 위치한 곳의 좌표를 나타내는 두 문자로 구성된 문자열이 입력된다.   \n",
    "입력문자는 a1 처럼 열과 행으로 이루어진다. \n",
    "\n",
    "* 출력조건   \n",
    "첫째 줄에 나이트가 이동할 수 있는 경우의 수를 출력하시오\n",
    "\n",
    "* * *\n",
    "**입력**<br> \n",
    "a1<br>  \n",
    "\n",
    "**출력**<br>\n",
    "2"
   ],
   "cell_type": "markdown",
   "metadata": {}
  },
  {
   "cell_type": "code",
   "execution_count": 2,
   "metadata": {},
   "outputs": [
    {
     "output_type": "stream",
     "name": "stdout",
     "text": [
      "2\n"
     ]
    }
   ],
   "source": [
    "locate = input()\n",
    "alphabet = {'a':1,'b':2,'c':3,'d':4,'e':5,'f':6,'g':7,'h':8}\n",
    "x, y = alphabet[locate[0]], locate[1]\n",
    "\n",
    "if (2 < x < 7) & (2 < y < 7):\n",
    "    result = 8\n",
    "elif (2 < x < 7) & (y > 2)"
   ]
  }
 ]
}