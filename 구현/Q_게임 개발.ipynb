{
 "metadata": {
  "language_info": {
   "codemirror_mode": {
    "name": "ipython",
    "version": 3
   },
   "file_extension": ".py",
   "mimetype": "text/x-python",
   "name": "python",
   "nbconvert_exporter": "python",
   "pygments_lexer": "ipython3",
   "version": "3.7.3"
  },
  "orig_nbformat": 2,
  "kernelspec": {
   "name": "python373jvsc74a57bd089cfcc2101ac9601337bf699cf426e47927e374f8b5aab845ae7d30939bbb508",
   "display_name": "Python 3.7.3 64-bit ('base': conda)"
  }
 },
 "nbformat": 4,
 "nbformat_minor": 2,
 "cells": [
  {
   "source": [
    "<h1>게임 개발</h1><br>\n",
    "<h2><문제></h2><br>   \n",
    "\n",
    "게임 캐릭터가 맵 안에서 움직이는 시스템을 개발해보자. 캐릭터가 있는 장소는 1 x 1 크기의 정사각형으로 이뤄진 N x M 크기의 직사각형으로, 각각의 칸은 육지 또는 바다이다. 캐릭터는 동서남북 중 한 곳을 바라본다. 맵의 각 칸은 (A,B)로 나타낼 수 있고 A는 북쪽으로부터 떨어진 칸의 개수, B는 서쪽으로부터 떨어진 칸의 개수이다. 캐릭터는 상하좌우 이동 가능, 바다에는 갈 수 없다. 메뉴얼은 다음과 같다. <br>   \n",
    "\n",
    "1) 현재 위치에서 현재 방향을 기준으로 왼쪽 방향(반시계 방향으로 90도 회전한 방향)부터 차례대로 갈 곳을 정한다.   \n",
    "\n",
    "2) 캐릭터의 바로 왼쪽 방향에 아직 가보지 않은 칸이 존재한다면 왼쪽 방향으로 회전 후 한 칸 전진한다.   \n",
    "   왼쪽 방향에 가보지 않은 칸이 없다면 왼쪽방향으로 회전만 하고 1단계로 돌아간다.   \n",
    "\n",
    "3) 만약 네 방향 모두 이미 가본 칸이거나 바다이면 바라보는 방향을 유지한 채 한 칸 뒤로 가고 1단계로 돌아간다.   \n",
    "   단, 이때 뒤쪽이 바다라서 뒤로 갈 수 없다면 움직임을 멈춘다.\n",
    "      \n",
    "위 과정을 반복적으로 반복하여 캐릭터가 방문한 칸의 수를 출력하는 프로그램을 만드시오. \n",
    "   \n",
    "* 입력조건   \n",
    "첫째 줄에 맵의 세로(N), 가로(M) 크기를 공백으로 구분하여 입력한다. (3 <= N,M <= 50)    \n",
    "둘째 줄에 캐릭터가 있는 칸의 좌표 (A,B)와 바라보는 방향 d가 각각 서로 공백으로 구분하여 주어진다.   \n",
    "**방향 d -> {0:북쪽, 1:동쪽, 2:남쪽, 3:서쪽}**   \n",
    "셋째 줄부터 맵이 육지인지 바다인지에 대한 정보가 주어진다. 맵의 외곽은 항상 바다이다.\n",
    "N개의 줄에 맵의 상태가 북쪽부터 남쪽 순서대로, 각 줄의 데이터는 서쪽에서 동쪽 순서대로 주어진다.    \n",
    "**{0:육지, 1:바다}**    \n",
    "처음 캐릭터가 위치한 칸의 상태는 항상 육지이다.    \n",
    "<br>\n",
    "* 출력조건   \n",
    "첫째 줄에 이동을 마친후 캐릭터가 방문한 칸의 수를 출력한다.\n",
    "\n",
    "* * *\n",
    "**입력**<br> \n",
    "4 4 &#160;&#160;&#160;&#160; # 맵 생성   \n",
    "1 1 0 &#160;&#160;&#160;# (1,1)에 북쪽(0)을 바라보고 서 있는 캐릭터    \n",
    "1 1 1 1 &#160;# 맵 형태  \n",
    "1 0 0 1    \n",
    "1 1 0 1    \n",
    "1 1 1 1    \n",
    "<br>  \n",
    "\n",
    "**출력**<br>\n",
    "3"
   ],
   "cell_type": "markdown",
   "metadata": {}
  },
  {
   "source": [
    "<h2>deque를 이용한 경우</h2>"
   ],
   "cell_type": "markdown",
   "metadata": {}
  },
  {
   "cell_type": "code",
   "execution_count": 9,
   "metadata": {},
   "outputs": [
    {
     "output_type": "error",
     "ename": "SyntaxError",
     "evalue": "invalid syntax (<ipython-input-9-f9ea129572b1>, line 11)",
     "traceback": [
      "\u001b[1;36m  File \u001b[1;32m\"<ipython-input-9-f9ea129572b1>\"\u001b[1;36m, line \u001b[1;32m11\u001b[0m\n\u001b[1;33m    steps = [(-1, 0), (0, 1), (1, 0), 0, -1)]\u001b[0m\n\u001b[1;37m                                           ^\u001b[0m\n\u001b[1;31mSyntaxError\u001b[0m\u001b[1;31m:\u001b[0m invalid syntax\n"
     ]
    }
   ],
   "source": [
    "from collections import deque\n",
    "\n",
    "#데이터 입력\n",
    "n, m = map(int, input().split())\n",
    "a, b, d = map(int, input().split())\n",
    "map_state = list(map(int, input().split()))\n",
    "\n",
    "#좌표, 방향, 이동\n",
    "locate = [a, b]\n",
    "direction = deque([0, 1, 2, 3])\n",
    "steps = [(-1, 0), (0, 1), (1, 0), (0, -1)]\n",
    "\n",
    "#d에 맞게 방향 조작\n",
    "for i in range(len(direction)):\n",
    "    if direction[0] == d:\n",
    "        break\n",
    "    else: \n",
    "        direction.rotate(1)\n",
    "\n",
    "# 게임 시작!!\n",
    "map_state[a][b] == 2\n",
    "land_cnt = 1\n",
    "\n",
    "while True:\n",
    "    direction.rotate(1)\n",
    "\n",
    "    for turn in range(4):\n",
    "        next_state = map_state[a + steps[direction[0]][0]][b + steps[direction[0]][1]]\n",
    "\n",
    "        if next_state == 0:\n",
    "            map_state[a + steps[direction[0]][0]][b + steps[direction[0]][1]] = 2\n",
    "            a = a + steps[direction[0]][0]\n",
    "            b = b + steps[direction[0]][1]\n",
    "            map_state[a][b] == 2\n",
    "            land_cnt += 1\n",
    "            break\n",
    "        else:\n",
    "            direction.rotate(1)\n",
    "\n",
    "        if turn == 3:\n",
    "            a = a - steps[direction[0]][0]\n",
    "            b = b - steps[direction[0]][1]\n",
    "            \n",
    "    if map_state[a][b] == 1:\n",
    "        break\n",
    "\n",
    "print(land_cnt)"
   ]
  },
  {
   "source": [
    "<h2>방향에 따른 dx, dy 지정한 경우</h2>"
   ],
   "cell_type": "markdown",
   "metadata": {}
  },
  {
   "cell_type": "code",
   "execution_count": 8,
   "metadata": {},
   "outputs": [
    {
     "output_type": "stream",
     "name": "stdout",
     "text": [
      "[1, 1, 1, 1]\n[1, 0, 0, 1]\n[1, 1, 0, 1]\n[1, 1, 1, 1]\n3\n"
     ]
    }
   ],
   "source": [
    "#데이터 입력\n",
    "n, m = map(int, input().split())\n",
    "x, y, direction = map(int, input().split())\n",
    "\n",
    "#방문 위치 초기화를 위한 맵 생성 및 0으로 초기화\n",
    "d = [[0]*m for _ in range(n)]\n",
    "d[x][y] = 1 # 현재 좌표 방문 처리\n",
    "\n",
    "#맵 정보 입력\n",
    "array = []\n",
    "for i in range(n):\n",
    "    array.append(list(map(int, input().split())))\n",
    "\n",
    "######\n",
    "for i in range(n):\n",
    "    print(array[i])\n",
    "######\n",
    "\n",
    "#좌표 설정 (북: 0, 동: 1, 남: 2, 서: 3)\n",
    "dx = [-1, 0, 1, 0]\n",
    "dy = [0, 1, 0 ,-1]\n",
    "\n",
    "#왼쪽으로 회전\n",
    "def turn_left():\n",
    "    global direction\n",
    "    direction -= 1\n",
    "    if direction == -1:\n",
    "        direction = 3\n",
    "\n",
    "#시뮬레이션 시작\n",
    "count = 1\n",
    "turn_time = 0\n",
    "\n",
    "while True:\n",
    "    turn_left()\n",
    "    nx = x + dx[direction]\n",
    "    ny = y + dy[direction]\n",
    "    # 가보지 않은 칸이면 이동\n",
    "    if d[nx][ny] == 0 and array[nx][ny] == 0:\n",
    "        d[nx][ny] = 1\n",
    "        x = nx\n",
    "        y = ny\n",
    "        count += 1\n",
    "        turn_time = 0\n",
    "        continue\n",
    "    # 이미 가본 칸 or 바다이면\n",
    "    else:\n",
    "        turn_time += 1\n",
    "\n",
    "    #네 방향 모두 못 가는 경우\n",
    "    if turn_time == 4:\n",
    "        nx = x - dx[direction]\n",
    "        ny = y - dy[direction]\n",
    "        # 뒤로 가기\n",
    "        if array[nx][ny] == 0:\n",
    "            x = nx\n",
    "            y = ny\n",
    "        else:\n",
    "            break\n",
    "\n",
    "        turn_time = 0\n",
    "\n",
    "print(count)"
   ]
  }
 ]
}