{
 "metadata": {
  "language_info": {
   "codemirror_mode": {
    "name": "ipython",
    "version": 3
   },
   "file_extension": ".py",
   "mimetype": "text/x-python",
   "name": "python",
   "nbconvert_exporter": "python",
   "pygments_lexer": "ipython3",
   "version": "3.7.3"
  },
  "orig_nbformat": 2,
  "kernelspec": {
   "name": "python3",
   "display_name": "Python 3.7.3 64-bit ('base': conda)",
   "metadata": {
    "interpreter": {
     "hash": "89cfcc2101ac9601337bf699cf426e47927e374f8b5aab845ae7d30939bbb508"
    }
   }
  }
 },
 "nbformat": 4,
 "nbformat_minor": 2,
 "cells": [
  {
   "source": [
    "<h1>상하좌우</h1><br>\n",
    "<h2><문제></h2><br>   \n",
    "\n",
    "여행가 A는 N x N 크기의 공간위에 서 있다. 상단 좌측 좌표는 (1, 1)이고 하단 우측 좌표는 (N, N)이다.\n",
    "여행 계획서에는 L,R,U,D 의 문자로 적혀 있고 각각 좌우상하를 의미한다. N x N 좌표를 벗어나는 움직임은 무시된다.   \n",
    "계획서가 주어졌을 때 여행가 A가 최종적으로 도착할 지점의 좌표를 출력하는 프로그램을 작성하시오.   \n",
    "   \n",
    "* 입력조건   \n",
    "첫째 줄에 공간의 크기를 나타내는 N이 주어진다. (1 <= N <= 100)   \n",
    "둘째 줄에 여행가 A가 이동할 계획서 내용이 주어진다. (1 <= 이동 횟수 <= 100)\n",
    "\n",
    "* 출력조건   \n",
    "첫째 줄에 여행가 A가 최종적으로 도착할 지점의 좌표 (X,Y)를 공백으로 구분하여 출력한다.  \n",
    "\n",
    "* * *\n",
    "**입력**<br> \n",
    "5<br> \n",
    "R R R U D D   \n",
    "<br>\n",
    "**출력**<br>\n",
    "3 4\n",
    "\n"
   ],
   "cell_type": "markdown",
   "metadata": {}
  },
  {
   "cell_type": "code",
   "execution_count": 11,
   "metadata": {},
   "outputs": [],
   "source": [
    "import time"
   ]
  },
  {
   "cell_type": "code",
   "execution_count": 14,
   "metadata": {},
   "outputs": [
    {
     "output_type": "stream",
     "name": "stdout",
     "text": [
      "4 5\n6.062352657318115\n"
     ]
    }
   ],
   "source": [
    "N = int(input())\n",
    "plans = input().split()\n",
    "\n",
    "m, n = 1, 1\n",
    "\n",
    "for plan in plans:\n",
    "    if plan == 'L':\n",
    "        if n - 1 >= 1:\n",
    "            n -= 1\n",
    "    elif plan == 'R':\n",
    "        if n + 1 <= N:\n",
    "            n += 1\n",
    "    elif plan == 'U':\n",
    "        if m - 1 >= 1:\n",
    "            m -= 1\n",
    "    else:\n",
    "        if m + 1 <= N:\n",
    "            m += 1\n",
    "\n",
    "print(m,n)"
   ]
  },
  {
   "cell_type": "code",
   "execution_count": 15,
   "metadata": {},
   "outputs": [
    {
     "output_type": "stream",
     "name": "stdout",
     "text": [
      "4 5\n6.523343801498413\n"
     ]
    }
   ],
   "source": [
    "n = int(input())\n",
    "x, y = 1, 1\n",
    "plans = input().split()\n",
    "\n",
    "#L,R,U,D에 따른 이동방향\n",
    "dx = [0, 0, -1, 1]\n",
    "dy = [-1, 1, 0, 0]\n",
    "move_types = ['L', 'R', 'U', 'D']\n",
    "\n",
    "for plan in plans:\n",
    "    for i in range(len(move_types)):\n",
    "        if plan == move_types[i]:\n",
    "            nx = x + dx[i]\n",
    "            ny = y + dy[i]\n",
    "\n",
    "    if nx < 1 or ny < 1 or nx > n or ny > n:\n",
    "        continue\n",
    "    x, y = nx, ny\n",
    "\n",
    "print(x, y)"
   ]
  }
 ]
}