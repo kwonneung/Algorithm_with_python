{
 "metadata": {
  "language_info": {
   "codemirror_mode": {
    "name": "ipython",
    "version": 3
   },
   "file_extension": ".py",
   "mimetype": "text/x-python",
   "name": "python",
   "nbconvert_exporter": "python",
   "pygments_lexer": "ipython3",
   "version": "3.7.3-final"
  },
  "orig_nbformat": 2,
  "kernelspec": {
   "name": "python3",
   "display_name": "Python 3.7.3 64-bit (conda)",
   "metadata": {
    "interpreter": {
     "hash": "89cfcc2101ac9601337bf699cf426e47927e374f8b5aab845ae7d30939bbb508"
    }
   }
  }
 },
 "nbformat": 4,
 "nbformat_minor": 2,
 "cells": [
  {
   "source": [
    "<h1>큰 수의 법칙</h1><br>\n",
    "\n",
    "<h2><문제></h2>\n",
    "주어진 수들을 'M'번 더하여 가장 큰 수를 만들어라. 단, 같은 인덱스는 K번을 초과하여 연속으로 더할 수 없다. 배열의 크기는 N이다. \n",
    "\n",
    "* 입력조건  \n",
    "첫째 줄에 N(2<=N<=1,000), M(1<=M<=10,000), K(1<=k<=10,000)의 자연수가 주어지며 각 자연수는 공백으로 구분한다.  \n",
    "둘째 줄에 N개의 자연수가 주어진다. 각 자연수는 공백으로 구분한다. 단, 각각의 자연수는 1이상 10,000 이하의 수로 주어진다.  \n",
    "입력으로 주어지는 K는 항상 M보다 작거나 같다. \n",
    "\n",
    "* 출력조건   \n",
    "첫째 줄에 동빈이의 큰 수의 법칙에 따라 더해진 답을 출력한다.\n"
   ],
   "cell_type": "markdown",
   "metadata": {}
  },
  {
   "cell_type": "code",
   "execution_count": 17,
   "metadata": {},
   "outputs": [
    {
     "output_type": "stream",
     "name": "stdout",
     "text": [
      "5 8 3\n",
      "46\n"
     ]
    }
   ],
   "source": [
    "import random\n",
    "\n",
    "N, M, K = map(int, input().split())\n",
    "print(N, M, K)\n",
    "data = list(map(int, input().split()))               #이런 방식의 입력 엄청 중요!!!\n",
    "data.sort(reverse= True)\n",
    "\n",
    "answer, m = 0, 0\n",
    "\n",
    "while m < M:  \n",
    "    for k in range(K):\n",
    "        answer += data[0]\n",
    "        m += 1\n",
    "        if m == M: break\n",
    "        \n",
    "    answer += data[1]\n",
    "    m += 1\n",
    "    \n",
    "print(answer)"
   ]
  },
  {
   "cell_type": "code",
   "execution_count": 9,
   "metadata": {},
   "outputs": [
    {
     "output_type": "stream",
     "name": "stdout",
     "text": [
      "[6, 3, 2, 1, 1]\n"
     ]
    }
   ],
   "source": [
    "data = [1,3,6,2,1]\n",
    "data.sort(reverse= True)\n",
    "print(data)"
   ]
  }
 ]
}