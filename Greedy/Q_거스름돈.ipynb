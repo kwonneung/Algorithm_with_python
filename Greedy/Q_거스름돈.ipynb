{
 "metadata": {
  "language_info": {
   "codemirror_mode": {
    "name": "ipython",
    "version": 3
   },
   "file_extension": ".py",
   "mimetype": "text/x-python",
   "name": "python",
   "nbconvert_exporter": "python",
   "pygments_lexer": "ipython3",
   "version": "3.7.3-final"
  },
  "orig_nbformat": 2,
  "kernelspec": {
   "name": "python3",
   "display_name": "Python 3.7.3 64-bit (conda)",
   "metadata": {
    "interpreter": {
     "hash": "89cfcc2101ac9601337bf699cf426e47927e374f8b5aab845ae7d30939bbb508"
    }
   }
  }
 },
 "nbformat": 4,
 "nbformat_minor": 2,
 "cells": [
  {
   "source": [
    "<h1>거스름돈</h1><br>\n",
    "\n",
    "<h2><문제></h2>  \n",
    "\n",
    "무한 개의 500원, 100원, 50원, 10원 동전이 있다. 손님에게 거슬러 줘야 할 돈이 10의 배수인 N일 때 거슬러 줘야 할 최소 동전 개수는?\n",
    "\n",
    "**입력**<br>\n",
    "1260\n",
    "\n",
    "**출력**<br>\n",
    "2 2 1 1"
   ],
   "cell_type": "markdown",
   "metadata": {}
  },
  {
   "cell_type": "code",
   "execution_count": 9,
   "metadata": {},
   "outputs": [
    {
     "output_type": "stream",
     "name": "stdout",
     "text": [
      "500원 동전 개수: 2\n100원 동전 개수: 2\n50원 동전 개수: 1\n10원 동전 개수: 1\n최소 동전 개수: 6\n"
     ]
    }
   ],
   "source": [
    "N = int(input())\n",
    "\n",
    "n_500 = N//500\n",
    "N = N - 500*n_500\n",
    "\n",
    "n_100 = N//100\n",
    "N = N - 100*n_100\n",
    "\n",
    "n_50 = N//50\n",
    "N = N - 50*n_50\n",
    "\n",
    "n_10 = N//10\n",
    "\n",
    "print(\"500원 동전 개수:\", n_500)\n",
    "print(\"100원 동전 개수:\", n_100)\n",
    "print(\"50원 동전 개수:\", n_50)\n",
    "print(\"10원 동전 개수:\", n_10)\n",
    "print(\"최소 동전 개수:\", n_500 + n_100 + n_50 + n_10)"
   ]
  },
  {
   "cell_type": "code",
   "execution_count": 11,
   "metadata": {},
   "outputs": [
    {
     "output_type": "stream",
     "name": "stdout",
     "text": [
      "6\n"
     ]
    }
   ],
   "source": [
    "#반복문을 사용한 방법\n",
    "N = int(input())\n",
    "coin_type = [500, 100, 50, 10]\n",
    "count = 0\n",
    "\n",
    "for coin in coin_type:\n",
    "    count += N//coin\n",
    "    N %= coin\n",
    "\n",
    "print(count)"
   ]
  }
 ]
}