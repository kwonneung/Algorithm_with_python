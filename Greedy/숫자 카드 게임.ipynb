{
 "metadata": {
  "language_info": {
   "codemirror_mode": {
    "name": "ipython",
    "version": 3
   },
   "file_extension": ".py",
   "mimetype": "text/x-python",
   "name": "python",
   "nbconvert_exporter": "python",
   "pygments_lexer": "ipython3",
   "version": "3.7.3-final"
  },
  "orig_nbformat": 2,
  "kernelspec": {
   "name": "python3",
   "display_name": "Python 3.7.3 64-bit (conda)",
   "metadata": {
    "interpreter": {
     "hash": "89cfcc2101ac9601337bf699cf426e47927e374f8b5aab845ae7d30939bbb508"
    }
   }
  }
 },
 "nbformat": 4,
 "nbformat_minor": 2,
 "cells": [
  {
   "source": [
    "<h1>숫자 카드 게임</h1><br>\n",
    "<h2><문제></h2><br>\n",
    "게임의 룰을 지키며 카드를 뽑으며 가장 높은 숫자가 쓰인 카드 한 장을 뽑는 게임이다.<br>  \n",
    "1. N x M 형태로 카드가 놓여 있다. (행: N, 열: M)<br>\n",
    "2. 뽑으려는 행을 선택<br>\n",
    "3. 선택된 행에서 가장 숫자가 낮은 카드를 뽑는다.<br>\n",
    "4. 행을 선택 시 위의 조건을 고려하여 전략을 세워서 선택해야 한다.\n",
    "\n",
    "* 입력조건  \n",
    "첫째 줄에 N, M을 공백 기준으로 자연수로 주어진다.   \n",
    "둘째 줄부터 N 개의 줄에 걸쳐 각 카드에 적힌 숫자가 주어진다.\n",
    "\n",
    "* 출력조건<br>\n",
    "첫째 줄에 게임의 룰에 맞게 선택한 카드에 적힌 숫자를 출력한다.\n",
    "\n",
    "**입력**  \n",
    "3 3  \n",
    "3 1 2  \n",
    "4 1 4  \n",
    "2 2 2  \n",
    "\n",
    "**출력**   \n",
    "2 4   \n",
    "7 3 1 8  \n",
    "3 3 3 4"
   ],
   "cell_type": "markdown",
   "metadata": {}
  },
  {
   "cell_type": "code",
   "execution_count": 1,
   "metadata": {},
   "outputs": [
    {
     "output_type": "error",
     "ename": "NameError",
     "evalue": "name '건' is not defined",
     "traceback": [
      "\u001b[1;31m---------------------------------------------------------------------------\u001b[0m",
      "\u001b[1;31mNameError\u001b[0m                                 Traceback (most recent call last)",
      "\u001b[1;32m<ipython-input-1-01058a03c433>\u001b[0m in \u001b[0;36m<module>\u001b[1;34m\u001b[0m\n\u001b[1;32m----> 1\u001b[1;33m \u001b[0m건\u001b[0m\u001b[1;33m\u001b[0m\u001b[1;33m\u001b[0m\u001b[0m\n\u001b[0m",
      "\u001b[1;31mNameError\u001b[0m: name '건' is not defined"
     ]
    }
   ],
   "source": []
  },
  {
   "cell_type": "code",
   "execution_count": null,
   "metadata": {},
   "outputs": [],
   "source": []
  }
 ]
}