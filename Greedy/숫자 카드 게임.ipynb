{
 "metadata": {
  "language_info": {
   "codemirror_mode": {
    "name": "ipython",
    "version": 3
   },
   "file_extension": ".py",
   "mimetype": "text/x-python",
   "name": "python",
   "nbconvert_exporter": "python",
   "pygments_lexer": "ipython3",
   "version": "3.7.3-final"
  },
  "orig_nbformat": 2,
  "kernelspec": {
   "name": "python3",
   "display_name": "Python 3.7.3 64-bit (conda)",
   "metadata": {
    "interpreter": {
     "hash": "89cfcc2101ac9601337bf699cf426e47927e374f8b5aab845ae7d30939bbb508"
    }
   }
  }
 },
 "nbformat": 4,
 "nbformat_minor": 2,
 "cells": [
  {
   "source": [
    "<h1>숫자 카드 게임</h1><br>\n",
    "<h2><문제></h2><br>\n",
    "게임의 룰을 지키며 카드를 뽑으며 가장 높은 숫자가 쓰인 카드 한 장을 뽑는 게임이다.<br>  \n",
    "1. N x M 형태로 카드가 놓여 있다. (행: N, 열: M)<br>\n",
    "2. 뽑으려는 행을 선택<br>\n",
    "3. 선택된 행에서 가장 숫자가 낮은 카드를 뽑는다.<br>\n",
    "4. 행을 선택 시 위의 조건을 고려하여 전략을 세워서 선택해야 한다.\n",
    "\n",
    "* 입력조건  \n",
    "첫째 줄에 N, M을 공백 기준으로 자연수로 주어진다.   \n",
    "둘째 줄부터 N 개의 줄에 걸쳐 각 카드에 적힌 숫자가 주어진다.\n",
    "\n",
    "* 출력조건<br>\n",
    "첫째 줄에 게임의 룰에 맞게 선택한 카드에 적힌 숫자를 출력한다.  \n",
    "\n",
    "* * *\n",
    "**입력1**&#160;&#160;**입력2**   \n",
    "3 3&#160;&#160;&#160;&#160;  2 4  \n",
    "3 1 2&#160;&#160;&#160;7 3 1 8  \n",
    "4 1 4&#160;&#160;&#160;3 3 3 4  \n",
    "2 2 2  \n",
    "\n",
    "**출력1**&#160;&#160;**출력2**   \n",
    "2 &#160;&#160;&#160;&#160;&#160;  3\n"
   ],
   "cell_type": "markdown",
   "metadata": {}
  },
  {
   "source": [
    "**1) min() 함수를 이용하는 방법**"
   ],
   "cell_type": "markdown",
   "metadata": {}
  },
  {
   "cell_type": "code",
   "execution_count": 33,
   "metadata": {},
   "outputs": [
    {
     "output_type": "stream",
     "name": "stdout",
     "text": [
      "2\n"
     ]
    }
   ],
   "source": [
    "# min 함수를 이용\n",
    "n, m = map(int, input().split())\n",
    "\n",
    "result = 0 \n",
    "for i in range(n):\n",
    "    data = list(map(int, input().split()))\n",
    "    min_value = min(data)\n",
    "    result = max(result, min_value)\n",
    "\n",
    "print(result)"
   ]
  },
  {
   "source": [
    "**2) 2중 반복문을 이용하는 방법**"
   ],
   "cell_type": "markdown",
   "metadata": {}
  },
  {
   "cell_type": "code",
   "execution_count": 34,
   "metadata": {},
   "outputs": [
    {
     "output_type": "stream",
     "name": "stdout",
     "text": [
      "4\n"
     ]
    }
   ],
   "source": [
    "# min 함수를 이용\n",
    "n, m = map(int, input().split())\n",
    "\n",
    "result = 0\n",
    "for i in range(n):\n",
    "    data = list(map(int, input().split()))\n",
    "    min_value = 10001 # 1<=N<=10000 이므로\n",
    "    for j in data:\n",
    "        min_value = min(min_value, j)\n",
    "    result = max(result, min_value)\n",
    "\n",
    "print(result)\n"
   ]
  },
  {
   "cell_type": "code",
   "execution_count": 32,
   "metadata": {},
   "outputs": [
    {
     "output_type": "stream",
     "name": "stdout",
     "text": [
      "{0: 1, 1: 1, 2: 2}\n2\n"
     ]
    }
   ],
   "source": [
    "# 2중 반복문 & Dictionary 이용한 방법\n",
    "\n",
    "N, M = map(int, input().split())\n",
    "rows = dict()\n",
    "\n",
    "for row in range(N):\n",
    "    input_data = input()\n",
    "    for col in range(M):\n",
    "        row_input = list(map(int, input_data.split()))\n",
    "        row_min = min(row_input)        \n",
    "    rows[row] = row_min         #행마다 가장 작은 값 dictionary에 저장\n",
    "\n",
    "print(max(rows.values()))       #Dictionary에서 가장 큰 value 찾기"
   ]
  },
  {
   "cell_type": "code",
   "execution_count": 29,
   "metadata": {},
   "outputs": [
    {
     "output_type": "stream",
     "name": "stdout",
     "text": [
      "x\n"
     ]
    }
   ],
   "source": [
    "##### <참고>  Dictionary min/max value의 Key 찾기\n",
    "my_dict = {'x':10, 'y':20, 'z':30}\n",
    "\n",
    "key_min = min(my_dict.keys(), key=(lambda k: my_dict[k]) )\n",
    "print(key_min)"
   ]
  }
 ]
}