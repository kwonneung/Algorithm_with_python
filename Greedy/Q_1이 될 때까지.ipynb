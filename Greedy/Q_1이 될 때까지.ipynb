{
 "metadata": {
  "language_info": {
   "codemirror_mode": {
    "name": "ipython",
    "version": 3
   },
   "file_extension": ".py",
   "mimetype": "text/x-python",
   "name": "python",
   "nbconvert_exporter": "python",
   "pygments_lexer": "ipython3",
   "version": "3.7.3"
  },
  "orig_nbformat": 2,
  "kernelspec": {
   "name": "python3",
   "display_name": "Python 3.7.3 64-bit ('base': conda)",
   "metadata": {
    "interpreter": {
     "hash": "89cfcc2101ac9601337bf699cf426e47927e374f8b5aab845ae7d30939bbb508"
    }
   }
  }
 },
 "nbformat": 4,
 "nbformat_minor": 2,
 "cells": [
  {
   "source": [
    "<h1>1이 될때까지</h1><br>\n",
    "<h2><문제></h2><br>\n",
    "\n",
    "어떠한 수 N이 1이 될 때까지 아래의 두 과정을 혼합하여 반복한다. 단, 두 번째 연산은 N이 K로 나누어떨어질 때만 선택할 수 있다.   \n",
    "1. N에서 1을 뺀다.   \n",
    "2. N을 K로 나눈다.  \n",
    "이때, 연산의 최소 횟수를 구하여라.   \n",
    "\n",
    "* 입력조건   \n",
    "첫째 줄에 N(2<=N<=100,000)과 K(2<=K<=100,000)가 공백으로 구분되며 각각 자연수로 주어진다. 이때 입력으로 주어지는 N은 항상 K보다 크거나 같다.   \n",
    "\n",
    "* 출력조건   \n",
    "첫째 줄에 N이 1이 될 때까지 1번 혹은 2번의 과정을 수행해야 하는 횟수의 최솟값을 출력한다.  \n",
    "\n",
    "* * *\n",
    "**입력** &nbsp; **출력**<br>\n",
    "25 5 &nbsp;&nbsp 2\n"
   ],
   "cell_type": "markdown",
   "metadata": {}
  },
  {
   "cell_type": "code",
   "execution_count": 10,
   "metadata": {},
   "outputs": [
    {
     "output_type": "stream",
     "name": "stdout",
     "text": [
      "2\n"
     ]
    }
   ],
   "source": [
    "N, K = list(map(int, input().split()))\n",
    "\n",
    "m = 0\n",
    "while N != 1:\n",
    "    if N%K == 0:\n",
    "        N = N/K\n",
    "    else:\n",
    "        N -= 1\n",
    "    m += 1\n",
    "\n",
    "print(m)\n"
   ]
  },
  {
   "cell_type": "code",
   "execution_count": 9,
   "metadata": {},
   "outputs": [
    {
     "output_type": "stream",
     "name": "stdout",
     "text": [
      "2\n"
     ]
    }
   ],
   "source": [
    "# 입력 받는 수가 클 때 빠른 코드\n",
    "n, k = map(int, input().split())\n",
    "result = 0\n",
    "\n",
    "while True:\n",
    "    target = (n//k) * k     # 반복문에서 1씩 차감이 아닌 한번에 나눌 수 있는 수까지 차감 \n",
    "    result += (n - target)\n",
    "    n = target\n",
    "    if n < k:   # 더 이상 나눌 수 없다면 반복문 탈출\n",
    "        break\n",
    "\n",
    "    result += 1     # 나눌 수 있다면 나눠주기\n",
    "    n //= k\n",
    "\n",
    "result += (n - 1)   # 반복문 탈출 시 N이 1될때까지 차감한 양 한번에 더해주기\n",
    "print(result)"
   ]
  }
 ]
}