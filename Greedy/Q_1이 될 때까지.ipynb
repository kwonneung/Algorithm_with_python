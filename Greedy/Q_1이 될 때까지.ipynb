{
 "metadata": {
  "language_info": {
   "codemirror_mode": {
    "name": "ipython",
    "version": 3
   },
   "file_extension": ".py",
   "mimetype": "text/x-python",
   "name": "python",
   "nbconvert_exporter": "python",
   "pygments_lexer": "ipython3",
   "version": 3
  },
  "orig_nbformat": 2
 },
 "nbformat": 4,
 "nbformat_minor": 2,
 "cells": [
  {
   "source": [
    "<h1>1이 될때까지</h1><br>\n",
    "<h2><문제></h2><br>\n",
    "\n",
    "어떠한 수 N이 1이 될 때까지 아래의 두 과정을 혼합하여 반복한다. 단, 두 연산은 N이 K로 나누어떨어질 때만 선택할 수 있다.   \n",
    "1. N에서 1을 뺀다.   \n",
    "2. N을 K로 나눈다.  \n",
    "이때, 연산의 최소 횟수를 구하여라.   \n",
    "\n",
    "* 입력조건   \n",
    "첫째 줄에 N(2<=N<=)\n",
    "\n"
   ],
   "cell_type": "markdown",
   "metadata": {}
  }
 ]
}